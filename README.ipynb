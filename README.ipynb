{
 "cells": [
  {
   "cell_type": "markdown",
   "metadata": {},
   "source": [
    "# VINS-Mono\n",
    "## A Robust and Versatile Monocular Visual-Inertial State Estimator\n",
    "**29 Dec 2017**: New features: Add map merge, pose graph reuse, online temporal calibration function, and support rolling shutter camera. Map reuse videos: \n",
    "\n",
    "<a href=\"https://www.youtube.com/embed/WDpH80nfZes\" target=\"_blank\"><img src=\"http://img.youtube.com/vi/WDpH80nfZes/0.jpg\" \n",
    "alt=\"cla\" width=\"240\" height=\"180\" border=\"10\" /></a>\n",
    "<a href=\"https://www.youtube.com/embed/eINyJHB34uU\" target=\"_blank\"><img src=\"http://img.youtube.com/vi/eINyJHB34uU/0.jpg\" \n",
    "alt=\"icra\" width=\"240\" height=\"180\" border=\"10\" /></a>\n",
    "\n",
    "VINS-Mono is a real-time SLAM framework for **Monocular Visual-Inertial Systems**. It uses an optimization-based sliding window formulation for providing high-accuracy visual-inertial odometry. It features efficient IMU pre-integration with bias correction, automatic estimator initialization, online extrinsic calibration, failure detection and recovery, loop detection, and global pose graph optimization, map merge, pose graph reuse, online temporal calibration, rolling shutter support. VINS-Mono is primarily designed for state estimation and feedback control of autonomous drones, but it is also capable of providing accurate localization for AR applications. This code runs on **Linux**, and is fully integrated with **ROS**. For **iOS** mobile implementation, please go to [VINS-Mobile](https://github.com/HKUST-Aerial-Robotics/VINS-Mobile).\n",
    "\n",
    "**Authors:** [Tong Qin](http://www.qintonguav.com), [Peiliang Li](https://github.com/PeiliangLi), [Zhenfei Yang](https://github.com/dvorak0), and [Shaojie Shen](http://www.ece.ust.hk/ece.php/profile/facultydetail/eeshaojie) from the [HUKST Aerial Robotics Group](http://uav.ust.hk/)\n",
    "\n",
    "**Videos:**\n",
    "\n",
    "<a href=\"https://www.youtube.com/embed/mv_9snb_bKs\" target=\"_blank\"><img src=\"http://img.youtube.com/vi/mv_9snb_bKs/0.jpg\" \n",
    "alt=\"euroc\" width=\"240\" height=\"180\" border=\"10\" /></a>\n",
    "<a href=\"https://www.youtube.com/embed/g_wN0Nt0VAU\" target=\"_blank\"><img src=\"http://img.youtube.com/vi/g_wN0Nt0VAU/0.jpg\" \n",
    "alt=\"indoor_outdoor\" width=\"240\" height=\"180\" border=\"10\" /></a>\n",
    "<a href=\"https://www.youtube.com/embed/I4txdvGhT6I\" target=\"_blank\"><img src=\"http://img.youtube.com/vi/I4txdvGhT6I/0.jpg\" \n",
    "alt=\"AR_demo\" width=\"240\" height=\"180\" border=\"10\" /></a>\n",
    "\n",
    "EuRoC dataset;                  Indoor and outdoor performance;                         AR application;\n",
    "\n",
    "<a href=\"https://www.youtube.com/embed/2zE84HqT0es\" target=\"_blank\"><img src=\"http://img.youtube.com/vi/2zE84HqT0es/0.jpg\" \n",
    "alt=\"MAV platform\" width=\"240\" height=\"180\" border=\"10\" /></a>\n",
    "<a href=\"https://www.youtube.com/embed/CI01qbPWlYY\" target=\"_blank\"><img src=\"http://img.youtube.com/vi/CI01qbPWlYY/0.jpg\" \n",
    "alt=\"Mobile platform\" width=\"240\" height=\"180\" border=\"10\" /></a>\n",
    "\n",
    " MAV application;               Mobile implementation (Video link for mainland China friends: [Video1](http://www.bilibili.com/video/av10813254/) [Video2](http://www.bilibili.com/video/av10813205/) [Video3](http://www.bilibili.com/video/av10813089/) [Video4](http://www.bilibili.com/video/av10813325/) [Video5](http://www.bilibili.com/video/av10813030/))\n",
    "\n",
    "**Related Papers**\n",
    "* **VINS-Mono: A Robust and Versatile Monocular Visual-Inertial State Estimator**, Tong Qin, Peiliang Li, Zhenfei Yang, Shaojie Shen, IEEE Transactions on Robotics[pdf](https://ieeexplore.ieee.org/document/8421746/?arnumber=8421746&source=authoralert)"
   ]
  },
  {
   "cell_type": "code",
   "execution_count": null,
   "metadata": {},
   "outputs": [],
   "source": [
    "@article{qin2017vins,\n",
    "  title={VINS-Mono: A Robust and Versatile Monocular Visual-Inertial State Estimator},\n",
    "  author={Qin, Tong and Li, Peiliang and Shen, Shaojie},\n",
    "  journal={IEEE Transactions on Robotics}, \n",
    "  year={2018},\n",
    "  volume={34}, \n",
    "  number={4}, \n",
    "  pages={1004-1020}}"
   ]
  },
  {
   "cell_type": "markdown",
   "metadata": {},
   "source": [
    "*If you use VINS-Mono for your academic research, please cite at least one of our related papers.*"
   ]
  },
  {
   "cell_type": "markdown",
   "metadata": {},
   "source": [
    "## How to run:\n",
    "Open the following notebooks for launching the `vins_estimator`, `rviz` and `play the bag file` respectively.\n",
    "* [vins_euroc.ipynb](vins_euroc.ipynb)\n",
    "* [vins_rviz.ipynb](vins_rviz.ipynb)\n",
    "* [vins_rosbag.ipynb](vins_rosbag.ipynb)"
   ]
  }
 ],
 "metadata": {
  "kernelspec": {
   "display_name": "Bash",
   "language": "bash",
   "name": "bash"
  },
  "language_info": {
   "codemirror_mode": "shell",
   "file_extension": ".sh",
   "mimetype": "text/x-sh",
   "name": "bash"
  }
 },
 "nbformat": 4,
 "nbformat_minor": 2
}
